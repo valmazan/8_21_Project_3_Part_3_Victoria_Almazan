{
 "cells": [
  {
   "cell_type": "markdown",
   "id": "5f91a22c",
   "metadata": {},
   "source": [
    "# Project 3 - Part 3 (Core)"
   ]
  },
  {
   "cell_type": "markdown",
   "id": "f1b4be4f",
   "metadata": {},
   "source": [
    "For part 3 of the project you will be practicing applying an E.T.L process on your previously saved movie data. Specifically, you will create a new MySQL database after preparing the data for a relational database. You will export your database to a .sql file in your repository using MySQL Workbench."
   ]
  },
  {
   "cell_type": "markdown",
   "id": "33c51ec4",
   "metadata": {},
   "source": [
    "## Specifications - Database"
   ]
  },
  {
   "cell_type": "markdown",
   "id": "1bc8ff71",
   "metadata": {},
   "source": [
    "- Your stakeholder wants you to take the data you have been cleaning and collecting in Parts 1 & 2 of the project and wants you to create a MySQL database for them.\n",
    "\n",
    "- Specifically, they want the data from the following files included in your database:\n",
    "\n",
    "- Title Basics:\n",
    " - Movie ID (tconst)\n",
    " - Primary Title\n",
    " - Start Year\n",
    " - Runtime (in Minutes)\n",
    " - Genres\n",
    " \n",
    "- Title Ratings:\n",
    " - Movie ID (tconst)\n",
    " - Average Movie Rating\n",
    " - Number of Votes\n",
    "\n",
    "- The TMDB API Results (multiple files)\n",
    " - Movie ID\n",
    " - Revenue\n",
    " - Budget\n",
    " - Certification (MPAA Rating)\n",
    "\n",
    "- You should normalize the tables as best you can before adding them to your new database.\n",
    "\n",
    " - Note: an important exception to their request is that they would like you to keep all of the data from the TMDB API in 1 table together (even though it will not be perfectly normalized).\n",
    " - You only need to keep the imdb_id, revenue, budget, and certification columns"
   ]
  },
  {
   "cell_type": "markdown",
   "id": "f6ae403b",
   "metadata": {},
   "source": [
    "### Required Transformation Steps for Title Basics:\n",
    "\n",
    "- Normalize Genre:\n",
    " - Convert the single string of genres from title basics into 2 new tables.\n",
    "1. title_genres: with the columns:\n",
    " - tconst\n",
    " - genre_id"
   ]
  },
  {
   "cell_type": "markdown",
   "id": "5523319e",
   "metadata": {},
   "source": [
    "2. genres:\n",
    " - genre_id\n",
    " - genre_name\n",
    " \n",
    " Discard unnecessary information:\n",
    "\n",
    "For the title basics table, drop the following columns:\n",
    " - \"original_title\" (we will use the primary title column instead)\n",
    " - \"isAdult\" (\"Adult\" will show up in the genres so this is redundant information).\n",
    " - \"titleType\" (every row will be a movie).\n",
    " - \"genres\" and other variants of genre (genre is now represented in the 2 new tables described above.\n",
    " - Do not include the title_akas table in your SQL database.\n",
    " - You have already filtered out the desired movies using this table, and the remaining data is mostly nulls and not of interest to the stakeholder."
   ]
  },
  {
   "cell_type": "markdown",
   "id": "3fbeaaff",
   "metadata": {},
   "source": [
    "### MySQL Database Requirements\n",
    "\n",
    "- Use sqlalchemy with Pandas to execute your SQL queries inside your notebook.\n",
    "\n",
    "- Create a new database on your MySQL server and call it \"movies.\"\n",
    "\n",
    "- Make sure to have the following tables in your \"movies\" database:\n",
    "\n",
    " - title_basics\n",
    " - title_ratings\n",
    " - title_genres\n",
    " - genres\n",
    " - tmdb_data\n",
    "\n",
    "- Make sure to set a Primary Key for each table that isn't a joiner table (e.g., title_genres is a joiner table).\n",
    "\n",
    "- After creating each table, show the first 5 rows of that table using a SQL query.\n",
    "\n",
    "- Make sure to run the \"SHOW TABLES\" SQL query at the end of your notebook to show that all required tables have been created.\n",
    "\n",
    "## Deliverables\n",
    "\n",
    "Submit a link to your github repository containing the Jupyter Notebook file."
   ]
  },
  {
   "cell_type": "code",
   "execution_count": 1,
   "id": "ab211838",
   "metadata": {},
   "outputs": [],
   "source": [
    "import json\n",
    "import pandas as pd\n",
    "import numpy as np\n",
    "import seaborn as sns\n",
    "from scipy import stats\n",
    "\n",
    "\n",
    "import pymysql\n",
    "pymysql.install_as_MySQLdb()\n",
    "\n",
    "from sqlalchemy import create_engine\n",
    "from sqlalchemy_utils import create_database, database_exists"
   ]
  },
  {
   "cell_type": "code",
   "execution_count": null,
   "id": "3926787e",
   "metadata": {},
   "outputs": [],
   "source": []
  },
  {
   "cell_type": "code",
   "execution_count": null,
   "id": "505c592f",
   "metadata": {},
   "outputs": [],
   "source": []
  },
  {
   "cell_type": "code",
   "execution_count": null,
   "id": "e8abd189",
   "metadata": {},
   "outputs": [],
   "source": []
  },
  {
   "cell_type": "code",
   "execution_count": null,
   "id": "d051ed9c",
   "metadata": {},
   "outputs": [],
   "source": []
  },
  {
   "cell_type": "code",
   "execution_count": null,
   "id": "0dda07cb",
   "metadata": {},
   "outputs": [],
   "source": []
  },
  {
   "cell_type": "code",
   "execution_count": null,
   "id": "47da9491",
   "metadata": {},
   "outputs": [],
   "source": []
  },
  {
   "cell_type": "code",
   "execution_count": null,
   "id": "5fb50a90",
   "metadata": {},
   "outputs": [],
   "source": []
  },
  {
   "cell_type": "code",
   "execution_count": null,
   "id": "961b9ec9",
   "metadata": {},
   "outputs": [],
   "source": []
  },
  {
   "cell_type": "code",
   "execution_count": null,
   "id": "6f0a598e",
   "metadata": {},
   "outputs": [],
   "source": []
  }
 ],
 "metadata": {
  "kernelspec": {
   "display_name": "Python 3 (ipykernel)",
   "language": "python",
   "name": "python3"
  },
  "language_info": {
   "codemirror_mode": {
    "name": "ipython",
    "version": 3
   },
   "file_extension": ".py",
   "mimetype": "text/x-python",
   "name": "python",
   "nbconvert_exporter": "python",
   "pygments_lexer": "ipython3",
   "version": "3.9.15"
  },
  "toc": {
   "base_numbering": 1,
   "nav_menu": {},
   "number_sections": false,
   "sideBar": true,
   "skip_h1_title": false,
   "title_cell": "Table of Contents",
   "title_sidebar": "Contents",
   "toc_cell": false,
   "toc_position": {},
   "toc_section_display": true,
   "toc_window_display": false
  }
 },
 "nbformat": 4,
 "nbformat_minor": 5
}
